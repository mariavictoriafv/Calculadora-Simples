{
  "nbformat": 4,
  "nbformat_minor": 0,
  "metadata": {
    "colab": {
      "provenance": [],
      "toc_visible": true
    },
    "kernelspec": {
      "name": "python3",
      "display_name": "Python 3"
    },
    "language_info": {
      "name": "python"
    }
  },
  "cells": [
    {
      "cell_type": "markdown",
      "source": [
        "# Trabalho Final da Disciplina de Inteligência Artificial - INF 420 #\n",
        "\n",
        "##Alunos:\n",
        "##Kevin Alexandre de Castro - 102027 ##\n",
        "##Maria Victória Fernandes Vaz - 105470##"
      ],
      "metadata": {
        "id": "YHEIZwwsIh0H"
      }
    },
    {
      "cell_type": "markdown",
      "source": [
        "## Objetivo do Trabalho\n",
        "\n",
        "Esse trabalho tem como objetivo utilizar algoritmos de machine learning supervisionados para fazer a classificação de avaliações de usuários sobre filmes, produtos e estabelecimentos comerciais em negativas ou positivas. Após a construção das soluções, os métodos utilizados serão avaliados em relação a cada conjunto de dados utilizado. Essa avaliação será feita utilizando as métricas de avaliação acurácia, recall, precision, loss e f1 score e por meio da visualização dos resultados a partir de gráficos comparativos do desempenho de cada modelo no treinamento e no teste e da matriz de confusão.\n",
        "\n",
        "\n"
      ],
      "metadata": {
        "id": "CNIAlwV9JH6u"
      }
    },
    {
      "cell_type": "markdown",
      "source": [
        "## Leitura dos Dados\n",
        "Para treinamento e validação dos algoritmos implementados nesse trabalho utilizaremos um total de 6748 avaliações de usuários obtidas nos seguintes contextos\n",
        "\n",
        "*   IMDB: 748 avaliações sobre cinema\n",
        "*   Amazon: 5000 avaliações sobre produtos\n",
        "*   Yelp: 1000 avaliações de estabelecimentos comerciais\n",
        "\n",
        "Os dados dos data s possuem a seguinte configuração: uma label que contem a avaliação do usuário e depois um número que é 0, caso a avaliação seja negativa e 1, caso a avaliação seja positiva.\n",
        "\n"
      ],
      "metadata": {
        "id": "HxaC6CxitJc2"
      }
    },
    {
      "cell_type": "code",
      "source": [
        "import pandas as pd\n",
        "\n",
        "# Lendo os datasets com o pandas\n",
        "# Vamos ler separadamente os datasets para utilizá-los em outros experimentos posteriormente\n",
        "data_imdb = pd.read_csv('./imdb_labelled.txt', sep=\"\\t\")\n",
        "data_yelp = pd.read_csv('./yelp_labelled.txt', sep=\"\\t\")\n",
        "data_amazon = pd.read_csv('./amazon_labelled.txt', sep=\"\\t\")\n",
        "\n",
        "# Mostrando o dataset lido como exemplo\n",
        "# data_amazon_general.head()\n",
        "# data_imdb.head()\n",
        "data_yelp.head()\n"
      ],
      "metadata": {
        "colab": {
          "base_uri": "https://localhost:8080/",
          "height": 206
        },
        "id": "ALecv6wkrfnU",
        "outputId": "cf5703d7-a145-4046-9811-b6dd18df693b"
      },
      "execution_count": null,
      "outputs": [
        {
          "output_type": "execute_result",
          "data": {
            "text/plain": [
              "                                          Avaliation  Sentiment\n",
              "0                           Wow... Loved this place.          1\n",
              "1                                 Crust is not good.          0\n",
              "2          Not tasty and the texture was just nasty.          0\n",
              "3  Stopped by during the late May bank holiday of...          1\n",
              "4  The selection on the menu was great and so wer...          1"
            ],
            "text/html": [
              "\n",
              "  <div id=\"df-0e485568-6847-4513-a57a-0596999cb67b\">\n",
              "    <div class=\"colab-df-container\">\n",
              "      <div>\n",
              "<style scoped>\n",
              "    .dataframe tbody tr th:only-of-type {\n",
              "        vertical-align: middle;\n",
              "    }\n",
              "\n",
              "    .dataframe tbody tr th {\n",
              "        vertical-align: top;\n",
              "    }\n",
              "\n",
              "    .dataframe thead th {\n",
              "        text-align: right;\n",
              "    }\n",
              "</style>\n",
              "<table border=\"1\" class=\"dataframe\">\n",
              "  <thead>\n",
              "    <tr style=\"text-align: right;\">\n",
              "      <th></th>\n",
              "      <th>Avaliation</th>\n",
              "      <th>Sentiment</th>\n",
              "    </tr>\n",
              "  </thead>\n",
              "  <tbody>\n",
              "    <tr>\n",
              "      <th>0</th>\n",
              "      <td>Wow... Loved this place.</td>\n",
              "      <td>1</td>\n",
              "    </tr>\n",
              "    <tr>\n",
              "      <th>1</th>\n",
              "      <td>Crust is not good.</td>\n",
              "      <td>0</td>\n",
              "    </tr>\n",
              "    <tr>\n",
              "      <th>2</th>\n",
              "      <td>Not tasty and the texture was just nasty.</td>\n",
              "      <td>0</td>\n",
              "    </tr>\n",
              "    <tr>\n",
              "      <th>3</th>\n",
              "      <td>Stopped by during the late May bank holiday of...</td>\n",
              "      <td>1</td>\n",
              "    </tr>\n",
              "    <tr>\n",
              "      <th>4</th>\n",
              "      <td>The selection on the menu was great and so wer...</td>\n",
              "      <td>1</td>\n",
              "    </tr>\n",
              "  </tbody>\n",
              "</table>\n",
              "</div>\n",
              "      <button class=\"colab-df-convert\" onclick=\"convertToInteractive('df-0e485568-6847-4513-a57a-0596999cb67b')\"\n",
              "              title=\"Convert this dataframe to an interactive table.\"\n",
              "              style=\"display:none;\">\n",
              "        \n",
              "  <svg xmlns=\"http://www.w3.org/2000/svg\" height=\"24px\"viewBox=\"0 0 24 24\"\n",
              "       width=\"24px\">\n",
              "    <path d=\"M0 0h24v24H0V0z\" fill=\"none\"/>\n",
              "    <path d=\"M18.56 5.44l.94 2.06.94-2.06 2.06-.94-2.06-.94-.94-2.06-.94 2.06-2.06.94zm-11 1L8.5 8.5l.94-2.06 2.06-.94-2.06-.94L8.5 2.5l-.94 2.06-2.06.94zm10 10l.94 2.06.94-2.06 2.06-.94-2.06-.94-.94-2.06-.94 2.06-2.06.94z\"/><path d=\"M17.41 7.96l-1.37-1.37c-.4-.4-.92-.59-1.43-.59-.52 0-1.04.2-1.43.59L10.3 9.45l-7.72 7.72c-.78.78-.78 2.05 0 2.83L4 21.41c.39.39.9.59 1.41.59.51 0 1.02-.2 1.41-.59l7.78-7.78 2.81-2.81c.8-.78.8-2.07 0-2.86zM5.41 20L4 18.59l7.72-7.72 1.47 1.35L5.41 20z\"/>\n",
              "  </svg>\n",
              "      </button>\n",
              "      \n",
              "  <style>\n",
              "    .colab-df-container {\n",
              "      display:flex;\n",
              "      flex-wrap:wrap;\n",
              "      gap: 12px;\n",
              "    }\n",
              "\n",
              "    .colab-df-convert {\n",
              "      background-color: #E8F0FE;\n",
              "      border: none;\n",
              "      border-radius: 50%;\n",
              "      cursor: pointer;\n",
              "      display: none;\n",
              "      fill: #1967D2;\n",
              "      height: 32px;\n",
              "      padding: 0 0 0 0;\n",
              "      width: 32px;\n",
              "    }\n",
              "\n",
              "    .colab-df-convert:hover {\n",
              "      background-color: #E2EBFA;\n",
              "      box-shadow: 0px 1px 2px rgba(60, 64, 67, 0.3), 0px 1px 3px 1px rgba(60, 64, 67, 0.15);\n",
              "      fill: #174EA6;\n",
              "    }\n",
              "\n",
              "    [theme=dark] .colab-df-convert {\n",
              "      background-color: #3B4455;\n",
              "      fill: #D2E3FC;\n",
              "    }\n",
              "\n",
              "    [theme=dark] .colab-df-convert:hover {\n",
              "      background-color: #434B5C;\n",
              "      box-shadow: 0px 1px 3px 1px rgba(0, 0, 0, 0.15);\n",
              "      filter: drop-shadow(0px 1px 2px rgba(0, 0, 0, 0.3));\n",
              "      fill: #FFFFFF;\n",
              "    }\n",
              "  </style>\n",
              "\n",
              "      <script>\n",
              "        const buttonEl =\n",
              "          document.querySelector('#df-0e485568-6847-4513-a57a-0596999cb67b button.colab-df-convert');\n",
              "        buttonEl.style.display =\n",
              "          google.colab.kernel.accessAllowed ? 'block' : 'none';\n",
              "\n",
              "        async function convertToInteractive(key) {\n",
              "          const element = document.querySelector('#df-0e485568-6847-4513-a57a-0596999cb67b');\n",
              "          const dataTable =\n",
              "            await google.colab.kernel.invokeFunction('convertToInteractive',\n",
              "                                                     [key], {});\n",
              "          if (!dataTable) return;\n",
              "\n",
              "          const docLinkHtml = 'Like what you see? Visit the ' +\n",
              "            '<a target=\"_blank\" href=https://colab.research.google.com/notebooks/data_table.ipynb>data table notebook</a>'\n",
              "            + ' to learn more about interactive tables.';\n",
              "          element.innerHTML = '';\n",
              "          dataTable['output_type'] = 'display_data';\n",
              "          await google.colab.output.renderOutput(dataTable, element);\n",
              "          const docLink = document.createElement('div');\n",
              "          docLink.innerHTML = docLinkHtml;\n",
              "          element.appendChild(docLink);\n",
              "        }\n",
              "      </script>\n",
              "    </div>\n",
              "  </div>\n",
              "  "
            ]
          },
          "metadata": {},
          "execution_count": 3
        }
      ]
    },
    {
      "cell_type": "markdown",
      "source": [
        "## Pré-Processamento dos Dados\n",
        "\n",
        "Antes de inserir os dados em um modelo de Machine Learning é necessário representar de alguma forma as informações que estão em linguagem natural de maneira numérica, de forma a preservar certas características das frases. Nesse trbalho vamos testar duas formas de pré-processamento: a Técnica TF-IDF e vetorização por contagem de Palavras.\n"
      ],
      "metadata": {
        "id": "tb-zY2CVEaer"
      }
    },
    {
      "cell_type": "markdown",
      "source": [
        "##Técnica TF-IDF (Term Frequency - Inverse Data Frequency )\n",
        "\n",
        "A técnica TF-IDF é a junção de dois mecanismos: o TF, que calcula o número de vezes que uma palavra aparece em um dataset dividido pelo número total de palavras no dataset e o IDF, que mede a importância de um termo dentro de um documento (frase) em relação a uma coleção de documentos (frases)"
      ],
      "metadata": {
        "id": "CPIcFwde2Smo"
      }
    },
    {
      "cell_type": "code",
      "source": [
        "# Importando métodos do sklearn que ajudam vetorizar as frases e aplicar a técnica escolhida\n",
        "from sklearn.model_selection import train_test_split\n",
        "from sklearn.feature_extraction.text import TfidfVectorizer\n",
        "\n",
        "# Vetorizando com TF-IDF\n",
        "\n",
        "tfidf1 = TfidfVectorizer(max_features=1000000)\n",
        "data_set_imdb = tfidf1.fit_transform(data_imdb.Avaliation)\n",
        "feature_names = tfidf1.get_feature_names_out()  # Obtendo os nomes das características\n",
        "data_set_imdb = pd.DataFrame(data_set_imdb.toarray(), columns=feature_names)\n",
        "\n",
        "tfidf2 = TfidfVectorizer(max_features=1000000)\n",
        "data_set_yelp = tfidf2.fit_transform(data_yelp.Avaliation)\n",
        "feature_names = tfidf2.get_feature_names_out()  # Obtendo os nomes das características\n",
        "data_set_yelp = pd.DataFrame(data_set_yelp.toarray(), columns=feature_names)\n",
        "\n",
        "tfidf3 = TfidfVectorizer(max_features=1000000)\n",
        "data_set_amazon = tfidf3.fit_transform(data_amazon.Avaliation)\n",
        "feature_names = tfidf3.get_feature_names_out()  # Obtendo os nomes das características\n",
        "data_set_amazon = pd.DataFrame(data_set_amazon.toarray(), columns=feature_names)\n",
        "\n",
        "\n",
        "print(data_set_amazon)"
      ],
      "metadata": {
        "id": "dGlGQIVZ1UVv",
        "colab": {
          "base_uri": "https://localhost:8080/"
        },
        "outputId": "715b2963-f870-4f30-de1c-4f8921a68996"
      },
      "execution_count": null,
      "outputs": [
        {
          "output_type": "stream",
          "name": "stdout",
          "text": [
            "       00  000  00290  007  0070412901  0072316373  008  00yeah   01  011  \\\n",
            "0     0.0  0.0    0.0  0.0         0.0         0.0  0.0     0.0  0.0  0.0   \n",
            "1     0.0  0.0    0.0  0.0         0.0         0.0  0.0     0.0  0.0  0.0   \n",
            "2     0.0  0.0    0.0  0.0         0.0         0.0  0.0     0.0  0.0  0.0   \n",
            "3     0.0  0.0    0.0  0.0         0.0         0.0  0.0     0.0  0.0  0.0   \n",
            "4     0.0  0.0    0.0  0.0         0.0         0.0  0.0     0.0  0.0  0.0   \n",
            "...   ...  ...    ...  ...         ...         ...  ...     ...  ...  ...   \n",
            "5995  0.0  0.0    0.0  0.0         0.0         0.0  0.0     0.0  0.0  0.0   \n",
            "5996  0.0  0.0    0.0  0.0         0.0         0.0  0.0     0.0  0.0  0.0   \n",
            "5997  0.0  0.0    0.0  0.0         0.0         0.0  0.0     0.0  0.0  0.0   \n",
            "5998  0.0  0.0    0.0  0.0         0.0         0.0  0.0     0.0  0.0  0.0   \n",
            "5999  0.0  0.0    0.0  0.0         0.0         0.0  0.0     0.0  0.0  0.0   \n",
            "\n",
            "      ...   zu  zuez  zune  zydeco  zzzzzz  zzzzzzzzzz  zzzzzzzzzzzz  \\\n",
            "0     ...  0.0   0.0   0.0     0.0     0.0         0.0           0.0   \n",
            "1     ...  0.0   0.0   0.0     0.0     0.0         0.0           0.0   \n",
            "2     ...  0.0   0.0   0.0     0.0     0.0         0.0           0.0   \n",
            "3     ...  0.0   0.0   0.0     0.0     0.0         0.0           0.0   \n",
            "4     ...  0.0   0.0   0.0     0.0     0.0         0.0           0.0   \n",
            "...   ...  ...   ...   ...     ...     ...         ...           ...   \n",
            "5995  ...  0.0   0.0   0.0     0.0     0.0         0.0           0.0   \n",
            "5996  ...  0.0   0.0   0.0     0.0     0.0         0.0           0.0   \n",
            "5997  ...  0.0   0.0   0.0     0.0     0.0         0.0           0.0   \n",
            "5998  ...  0.0   0.0   0.0     0.0     0.0         0.0           0.0   \n",
            "5999  ...  0.0   0.0   0.0     0.0     0.0         0.0           0.0   \n",
            "\n",
            "      zzzzzzzzzzzzz  éviter  única  \n",
            "0               0.0     0.0    0.0  \n",
            "1               0.0     0.0    0.0  \n",
            "2               0.0     0.0    0.0  \n",
            "3               0.0     0.0    0.0  \n",
            "4               0.0     0.0    0.0  \n",
            "...             ...     ...    ...  \n",
            "5995            0.0     0.0    0.0  \n",
            "5996            0.0     0.0    0.0  \n",
            "5997            0.0     0.0    0.0  \n",
            "5998            0.0     0.0    0.0  \n",
            "5999            0.0     0.0    0.0  \n",
            "\n",
            "[6000 rows x 21497 columns]\n"
          ]
        }
      ]
    },
    {
      "cell_type": "markdown",
      "source": [
        "## Técnica de Vetorização a partir da Contagem de Palavras\n",
        "\n",
        "Nessa técnica, o texto contido nas frases é convertido em vetores onde cada posição representa uma palavra contida na frase e o valor que está em cada posição representa o número de vezes que houve ocorrência da palavra correspondente a essa posição na frase."
      ],
      "metadata": {
        "id": "sJLkhngXFIJn"
      }
    },
    {
      "cell_type": "code",
      "source": [
        "# Importando mecanismos que fazem a vetorização por contagem\n",
        "from sklearn.feature_extraction.text import CountVectorizer\n",
        "from sklearn.model_selection import train_test_split\n",
        "from nltk.corpus import stopwords\n",
        "import nltk\n",
        "nltk.download('stopwords')\n",
        "\n",
        "stop_words = stopwords.words('english')\n",
        "\n",
        "# Separando as palavras em unigramas e fazendo a vetorização com CountVectorizer para todos os 3 datasets que serão usados\n",
        "\n",
        "vect1 = CountVectorizer(ngram_range=(1, 1), lowercase=True, stop_words=stop_words)\n",
        "vect1.fit(data_imdb.Avaliation)\n",
        "data_set_imdb = vect1.transform(data_imdb.Avaliation)\n",
        "\n",
        "vect2 = CountVectorizer(ngram_range=(1, 1), lowercase=True, stop_words=stop_words)\n",
        "vect2.fit(data_yelp.Avaliation)\n",
        "data_set_yelp = vect2.transform(data_yelp.Avaliation)\n",
        "\n",
        "vect3 = CountVectorizer(ngram_range=(1, 1), lowercase=True, stop_words=stop_words)\n",
        "vect3.fit(data_amazon.Avaliation)\n",
        "data_set_amazon = vect3.transform(data_amazon.Avaliation)\n",
        "\n",
        "print(data_set_amazon)"
      ],
      "metadata": {
        "id": "7aGcRVVsFHyq"
      },
      "execution_count": null,
      "outputs": []
    },
    {
      "cell_type": "markdown",
      "source": [
        "## Divisão dos Dados para Treino e para Avaliação"
      ],
      "metadata": {
        "id": "VFspnt0zK8Py"
      }
    },
    {
      "cell_type": "code",
      "source": [
        "# Separando os dados de cada dataset já vetorizado e com as features das amostras pré-processadas em dados de treino e de avaliação, para cada dataset\n",
        "\n",
        "data_treino_imdbX,data_aval_imdbX,data_treino_imdbY,data_aval_imdbY = train_test_split(\n",
        "    data_set_imdb,\n",
        "    data_imdb.Sentiment,\n",
        "    test_size = 0.2,\n",
        "    random_state = 42\n",
        ")\n",
        "\n",
        "data_treino_yelpX, data_aval_yelpX, data_treino_yelpY, data_aval_yelpY = train_test_split(\n",
        "    data_set_yelp,\n",
        "    data_yelp.Sentiment,\n",
        "    test_size = 0.2,\n",
        "    random_state = 42\n",
        ")\n",
        "\n",
        "data_treino_amazonX, data_aval_amazonX, data_treino_amazonY, data_aval_amazonY = train_test_split(\n",
        "    data_set_amazon,\n",
        "    data_amazon.Sentiment,\n",
        "    test_size = 0.2,\n",
        "    random_state = 42\n",
        "\n",
        ")"
      ],
      "metadata": {
        "id": "qRFJ5rquJxCt"
      },
      "execution_count": null,
      "outputs": []
    },
    {
      "cell_type": "markdown",
      "source": [
        "## Aplicando Modelos de Machine Learning para Classificar os Dados\n",
        "\n",
        "Para classificar as frases vamos utilizar dois modelos: um baseado em Regressão Logística e outro em\n",
        "\n",
        "Para cada data set faremos treinamento, avalaição e mostraemos asmétricas de avaliação calculas e plotadas graficamente.\n",
        "\n",
        "### Regressão Logística\n",
        "O método de classificação utilizando regressão logística foi escolhido porque ela apresenta bons desempenhos em problemas de classificação binária. Além disso, o modelo realiza uma boa análise de quais características são ou não importantes para classificação da amostra. O fato dos dados do nosso problema serem linearmente separáveis, o modelo é capaz de fazer uma separação razoavelmente boa entre as classes.\n",
        "\n",
        "### Gradient Tree Boosting\n",
        "O modelo baseado em Gradient Tree Boosting foi escolhido porque também apresenta um desempenho muito bom em problemas de classificação binária como esse. Além disso, o modelo é muito flexível e foi o que apresentou melhor resultado em uma atividade feita na disciplina de INF 420, o que também influenciou na escolha. Para o número de estimators, foram feitos  testes com os valores {10, 50, 100, 500, 1000}, e o que apresentou melhor resultado foi incorporado ao código.\n",
        "\n",
        "### Métricas de Avaliação dos Resultados\n",
        "Serão observadas as seguintes métricas de avalição:\n",
        "\n",
        "\n",
        "*   Acurácia\n",
        "*   Precision\n",
        "*   Recall\n",
        "*   F1-score\n",
        "*   Matriz de Confusão\n",
        "\n",
        "No entanto, para fins de simplificação, no relatório serão analisadas apenas acurácia, precisão e a matriz de confusão.\n",
        "\n",
        "\n",
        "\n"
      ],
      "metadata": {
        "id": "opNa52NchttX"
      }
    },
    {
      "cell_type": "code",
      "source": [
        "from sklearn.metrics import accuracy_score\n",
        "from sklearn.metrics import classification_report\n",
        "from sklearn.linear_model import LogisticRegression\n",
        "from sklearn.ensemble import GradientBoostingClassifier\n",
        "import numpy as np\n",
        "import matplotlib.pyplot as plt\n",
        "import seaborn as sns\n",
        "from sklearn.metrics import confusion_matrix"
      ],
      "metadata": {
        "id": "VW229i1BFxoT"
      },
      "execution_count": null,
      "outputs": []
    },
    {
      "cell_type": "markdown",
      "source": [
        "### Dataset IMDB com Regressão Logística"
      ],
      "metadata": {
        "id": "PQgSZO3L6JqZ"
      }
    },
    {
      "cell_type": "code",
      "source": [
        "# Treinamento e Predição do modelo - Regressão Logistica\n",
        "RL_imdb = LogisticRegression()\n",
        "RL_imdb = RL_imdb.fit(data_treino_imdbX, data_treino_imdbY)\n",
        "\n",
        "RL_imdb_results = RL_imdb.predict(data_aval_imdbX)\n",
        "\n",
        "# Medidas de Avalição\n",
        "\n",
        "# Acurácia\n",
        "RL_acuracy_imdb = accuracy_score(data_aval_imdbY, RL_imdb_results) #verificação da acurácia da Regressão logística\n",
        "\n",
        "print(\"Taxa de acerto usando métrica de acurácia, usando o método de Regressão Logísitica, no IMDB: \", RL_acuracy_imdb )\n",
        "\n",
        "# Classification Report\n",
        "print(classification_report(data_aval_imdbY, RL_imdb_results, target_names=['Avaliações Positivas', 'Avaliações Negativas']))\n"
      ],
      "metadata": {
        "colab": {
          "base_uri": "https://localhost:8080/"
        },
        "id": "mzuly-4G55hd",
        "outputId": "c3375d7a-5e8e-4aaa-fa22-8e8ebcfb11f1"
      },
      "execution_count": null,
      "outputs": [
        {
          "output_type": "stream",
          "name": "stdout",
          "text": [
            "Taxa de acerto usando métrica de acurácia, usando o método de Regressão Logísitica, no IMDB:  0.7866666666666666\n",
            "                      precision    recall  f1-score   support\n",
            "\n",
            "Avaliações Positivas       0.80      0.78      0.79        76\n",
            "Avaliações Negativas       0.78      0.80      0.79        74\n",
            "\n",
            "            accuracy                           0.79       150\n",
            "           macro avg       0.79      0.79      0.79       150\n",
            "        weighted avg       0.79      0.79      0.79       150\n",
            "\n"
          ]
        }
      ]
    },
    {
      "cell_type": "code",
      "source": [
        "print(\"Matriz de confusão do modelo para IMDB com Regressão Logística\")\n",
        "\n",
        "cm = confusion_matrix(data_aval_imdbY, RL_imdb_results)\n",
        "sns.heatmap(cm, annot=True, fmt='d', cmap='Blues')\n",
        "plt.xlabel('Labels Preditadas')\n",
        "plt.ylabel('Labels Corretas')\n",
        "plt.title('Matriz de Confusão - Contagem de Palavras')\n",
        "plt.show()"
      ],
      "metadata": {
        "colab": {
          "base_uri": "https://localhost:8080/",
          "height": 490
        },
        "id": "O-LhxxGDS4bM",
        "outputId": "18b456f8-e2e3-443f-8ff1-8de26dc62d36"
      },
      "execution_count": null,
      "outputs": [
        {
          "output_type": "stream",
          "name": "stdout",
          "text": [
            "Matriz de confusão do modelo para IMDB com Regressão Logística\n"
          ]
        },
        {
          "output_type": "display_data",
          "data": {
            "text/plain": [
              "<Figure size 640x480 with 2 Axes>"
            ],
            "image/png": "[encoded data removed]"
          },
          "metadata": {}
        }
      ]
    },
    {
      "cell_type": "markdown",
      "source": [
        "### Dataset IMDB com Gradient Tree Boosting"
      ],
      "metadata": {
        "id": "yx9eGzm17f95"
      }
    },
    {
      "cell_type": "code",
      "source": [
        "# Treinamento e Predição do modelo - Gradient Tree Boosting\n",
        "GTB_imdb = GradientBoostingClassifier(n_estimators=500) # TF-IDF = 500, CP=500\n",
        "GTB_imdb.fit(data_treino_imdbX, data_treino_imdbY)\n",
        "\n",
        "GTB_imdb_results = GTB_imdb.predict(data_aval_imdbX)\n",
        "\n",
        "# Medidas de Avalição\n",
        "\n",
        "# Acurácia\n",
        "GTB_acuracy_imdb = accuracy_score(data_aval_imdbY, GTB_imdb_results)\n",
        "\n",
        "print(\"Taxa de acerto usando métrica de acurácia, usando o método de  Gradient Tree Boosting, no IMDB: \", GTB_acuracy_imdb )\n",
        "\n",
        "# Classification Report\n",
        "print(classification_report(data_aval_imdbY, GTB_imdb_results, target_names=['Avaliações Positivas', 'Avaliações Negativas']))\n"
      ],
      "metadata": {
        "colab": {
          "base_uri": "https://localhost:8080/"
        },
        "id": "ztqE1XBt7s9l",
        "outputId": "f0caded2-9857-401c-cbf1-24906c29affd"
      },
      "execution_count": null,
      "outputs": [
        {
          "output_type": "stream",
          "name": "stdout",
          "text": [
            "Taxa de acerto usando métrica de acurácia, usando o método de  Gradient Tree Boosting, no IMDB:  0.7266666666666667\n",
            "                      precision    recall  f1-score   support\n",
            "\n",
            "Avaliações Positivas       0.73      0.74      0.73        76\n",
            "Avaliações Negativas       0.73      0.72      0.72        74\n",
            "\n",
            "            accuracy                           0.73       150\n",
            "           macro avg       0.73      0.73      0.73       150\n",
            "        weighted avg       0.73      0.73      0.73       150\n",
            "\n"
          ]
        }
      ]
    },
    {
      "cell_type": "code",
      "source": [
        "import numpy as np\n",
        "import matplotlib.pyplot as plt\n",
        "import seaborn as sns\n",
        "from sklearn.metrics import confusion_matrix\n",
        "\n",
        "print(\"Matriz de confusão do modelo para IMDB com Gradient Tree Boosting\")\n",
        "\n",
        "cm = confusion_matrix(data_aval_imdbY, GTB_imdb_results)\n",
        "sns.heatmap(cm, annot=True, fmt='d', cmap='Blues')\n",
        "plt.xlabel('Labels preditadas')\n",
        "plt.ylabel('Labels Corretas')\n",
        "plt.title('Matriz de Confusão - Contagem de Palavras')\n",
        "plt.show()"
      ],
      "metadata": {
        "colab": {
          "base_uri": "https://localhost:8080/",
          "height": 490
        },
        "id": "9nl-Hb7y-h1k",
        "outputId": "e9c2b5ea-15cd-4b24-a35b-456e6627c15a"
      },
      "execution_count": null,
      "outputs": [
        {
          "output_type": "stream",
          "name": "stdout",
          "text": [
            "Matriz de confusão do modelo para IMDB com Gradient Tree Boosting\n"
          ]
        },
        {
          "output_type": "display_data",
          "data": {
            "text/plain": [
              "<Figure size 640x480 with 2 Axes>"
            ],
            "image/png": "[encoded data removed]"
          },
          "metadata": {}
        }
      ]
    },
    {
      "cell_type": "markdown",
      "source": [
        "### Dataset Yelp com Regressão Logística"
      ],
      "metadata": {
        "id": "YXLIMFOv62Z_"
      }
    },
    {
      "cell_type": "code",
      "source": [
        "# Treinamento e Predição do modelo - Regressão Logistica\n",
        "RL_yelp = LogisticRegression(random_state=0, solver='liblinear')\n",
        "RL_yelp = RL_yelp.fit(data_treino_yelpX, data_treino_yelpY)\n",
        "\n",
        "RL_yelp_results = RL_yelp.predict(data_aval_yelpX)\n",
        "\n",
        "# Medidas de Avalição\n",
        "\n",
        "# Acurácia\n",
        "RL_acuracy_yelp = accuracy_score(data_aval_yelpY, RL_yelp_results) #verificação da acurácia da Regressão logística\n",
        "\n",
        "print(\"Taxa de acerto usando métrica de acurácia, usando o método de regressão logística, no yelp: \", RL_acuracy_yelp )\n",
        "\n",
        "# Classification Report\n",
        "print(classification_report(data_aval_yelpY, RL_yelp_results, target_names=['Avaliações Positivas', 'Avaliações Negativas']))"
      ],
      "metadata": {
        "colab": {
          "base_uri": "https://localhost:8080/"
        },
        "id": "9PHaSZEW6guO",
        "outputId": "334602c4-e543-4bfd-db7c-3412e4bb78cf"
      },
      "execution_count": null,
      "outputs": [
        {
          "output_type": "stream",
          "name": "stdout",
          "text": [
            "Taxa de acerto usando métrica de acurácia, usando o método de regressão logística, no yelp:  0.785\n",
            "                      precision    recall  f1-score   support\n",
            "\n",
            "Avaliações Positivas       0.73      0.89      0.80        96\n",
            "Avaliações Negativas       0.87      0.69      0.77       104\n",
            "\n",
            "            accuracy                           0.79       200\n",
            "           macro avg       0.80      0.79      0.78       200\n",
            "        weighted avg       0.80      0.79      0.78       200\n",
            "\n"
          ]
        }
      ]
    },
    {
      "cell_type": "code",
      "source": [
        "print(\"Matriz de confusão do modelo para Yelp com Regressão Logística\")\n",
        "\n",
        "cm = confusion_matrix(data_aval_yelpY, RL_yelp_results)\n",
        "sns.heatmap(cm, annot=True, fmt='d', cmap='Blues')\n",
        "plt.xlabel('Labels preditadas')\n",
        "plt.ylabel('Labels Corretas')\n",
        "plt.title('Matriz de confusão')\n",
        "plt.show()"
      ],
      "metadata": {
        "colab": {
          "base_uri": "https://localhost:8080/",
          "height": 264
        },
        "id": "zmh8OGlp6aH5",
        "outputId": "1c679c67-a1fb-4365-e702-09cc4d79e0ff"
      },
      "execution_count": null,
      "outputs": [
        {
          "output_type": "stream",
          "name": "stdout",
          "text": [
            "Matriz de confusão do modelo para Yelp com Regressão Logística\n"
          ]
        },
        {
          "output_type": "error",
          "ename": "NameError",
          "evalue": "ignored",
          "traceback": [
            "\u001b[0;31m---------------------------------------------------------------------------\u001b[0m",
            "\u001b[0;31mNameError\u001b[0m                                 Traceback (most recent call last)",
            "\u001b[0;32m<ipython-input-2-76566848c107>\u001b[0m in \u001b[0;36m<cell line: 3>\u001b[0;34m()\u001b[0m\n\u001b[1;32m      1\u001b[0m \u001b[0mprint\u001b[0m\u001b[0;34m(\u001b[0m\u001b[0;34m\"Matriz de confusão do modelo para Yelp com Regressão Logística\"\u001b[0m\u001b[0;34m)\u001b[0m\u001b[0;34m\u001b[0m\u001b[0;34m\u001b[0m\u001b[0m\n\u001b[1;32m      2\u001b[0m \u001b[0;34m\u001b[0m\u001b[0m\n\u001b[0;32m----> 3\u001b[0;31m \u001b[0mcm\u001b[0m \u001b[0;34m=\u001b[0m \u001b[0mconfusion_matrix\u001b[0m\u001b[0;34m(\u001b[0m\u001b[0mdata_aval_yelpY\u001b[0m\u001b[0;34m,\u001b[0m \u001b[0mRL_yelp_results\u001b[0m\u001b[0;34m)\u001b[0m\u001b[0;34m\u001b[0m\u001b[0;34m\u001b[0m\u001b[0m\n\u001b[0m\u001b[1;32m      4\u001b[0m \u001b[0msns\u001b[0m\u001b[0;34m.\u001b[0m\u001b[0mheatmap\u001b[0m\u001b[0;34m(\u001b[0m\u001b[0mcm\u001b[0m\u001b[0;34m,\u001b[0m \u001b[0mannot\u001b[0m\u001b[0;34m=\u001b[0m\u001b[0;32mTrue\u001b[0m\u001b[0;34m,\u001b[0m \u001b[0mfmt\u001b[0m\u001b[0;34m=\u001b[0m\u001b[0;34m'd'\u001b[0m\u001b[0;34m,\u001b[0m \u001b[0mcmap\u001b[0m\u001b[0;34m=\u001b[0m\u001b[0;34m'Blues'\u001b[0m\u001b[0;34m)\u001b[0m\u001b[0;34m\u001b[0m\u001b[0;34m\u001b[0m\u001b[0m\n\u001b[1;32m      5\u001b[0m \u001b[0mplt\u001b[0m\u001b[0;34m.\u001b[0m\u001b[0mxlabel\u001b[0m\u001b[0;34m(\u001b[0m\u001b[0;34m'Labels preditadas'\u001b[0m\u001b[0;34m)\u001b[0m\u001b[0;34m\u001b[0m\u001b[0;34m\u001b[0m\u001b[0m\n",
            "\u001b[0;31mNameError\u001b[0m: name 'confusion_matrix' is not defined"
          ]
        }
      ]
    },
    {
      "cell_type": "markdown",
      "source": [
        "### Dataset Yelp com Gradient Tree Boosting"
      ],
      "metadata": {
        "id": "jJ0epH54_USP"
      }
    },
    {
      "cell_type": "code",
      "source": [
        "# Treinamento e Predição do modelo\n",
        "GTB_yelp = GradientBoostingClassifier(n_estimators=1000) # TF-IDF = 1000, CP=500=1000\n",
        "GTB_yelp = GTB_yelp.fit(data_treino_yelpX, data_treino_yelpY)\n",
        "\n",
        "GTB_yelp_results = GTB_yelp.predict(data_aval_yelpX)\n",
        "\n",
        "# Medidas de Avalição\n",
        "\n",
        "# Acurácia\n",
        "GTB_acuracy_yelp = accuracy_score(data_aval_yelpY, GTB_yelp_results)\n",
        "\n",
        "print(\"Taxa de acerto usando métrica de acurácia, usando o método de Gradient Tree Boosting, no yelp: \", GTB_acuracy_yelp )\n",
        "\n",
        "# Classification Report\n",
        "print(classification_report(data_aval_yelpY, GTB_yelp_results, target_names=['Avaliações Positivas', 'Avaliações Negativas']))"
      ],
      "metadata": {
        "colab": {
          "base_uri": "https://localhost:8080/"
        },
        "id": "4BLyQwyL_VVZ",
        "outputId": "6763b275-6f51-490a-a15f-16a1087f8625"
      },
      "execution_count": null,
      "outputs": [
        {
          "output_type": "stream",
          "name": "stdout",
          "text": [
            "Taxa de acerto usando métrica de acurácia, usando o método de Gradient Tree Boosting, no yelp:  0.76\n",
            "                      precision    recall  f1-score   support\n",
            "\n",
            "Avaliações Positivas       0.69      0.92      0.79        96\n",
            "Avaliações Negativas       0.89      0.62      0.73       104\n",
            "\n",
            "            accuracy                           0.76       200\n",
            "           macro avg       0.79      0.77      0.76       200\n",
            "        weighted avg       0.79      0.76      0.76       200\n",
            "\n"
          ]
        }
      ]
    },
    {
      "cell_type": "code",
      "source": [
        "print(\"Matriz de confusão do modelo para Yelp com Gradient Tree Boosting\")\n",
        "\n",
        "cm = confusion_matrix(data_aval_yelpY, GTB_yelp_results)\n",
        "sns.heatmap(cm, annot=True, fmt='d', cmap='Reds')\n",
        "plt.xlabel('Labels preditadas')\n",
        "plt.ylabel('Labels Corretas')\n",
        "plt.title('Matriz de Confusão - Contagem de Palavras')\n",
        "plt.show()"
      ],
      "metadata": {
        "colab": {
          "base_uri": "https://localhost:8080/",
          "height": 490
        },
        "id": "veME2_4z_wWq",
        "outputId": "e54abbaa-b4ef-4c5f-829e-c86324923bef"
      },
      "execution_count": null,
      "outputs": [
        {
          "output_type": "stream",
          "name": "stdout",
          "text": [
            "Matriz de confusão do modelo para Yelp com Gradient Tree Boosting\n"
          ]
        },
        {
          "output_type": "display_data",
          "data": {
            "text/plain": [
              "<Figure size 640x480 with 2 Axes>"
            ],
            "image/png": "[encoded data removed]"
          },
          "metadata": {}
        }
      ]
    },
    {
      "cell_type": "markdown",
      "source": [
        "### Dataset Amazon com Regressão Logística"
      ],
      "metadata": {
        "id": "2fwUvlC-7IWd"
      }
    },
    {
      "cell_type": "code",
      "source": [
        "# Treinamento e Predição do modelo - Regressão Logistica\n",
        "RL_amazon = LogisticRegression(random_state=0, solver='liblinear')\n",
        "RL_amazon = RL_amazon.fit(data_treino_amazonX, data_treino_amazonY)\n",
        "\n",
        "RL_amazon_results = RL_amazon.predict(data_aval_amazonX)\n",
        "\n",
        "# Medidas de Avalição\n",
        "\n",
        "# Acurácia\n",
        "RL_acuracy_amazon = accuracy_score(data_aval_amazonY, RL_amazon_results)\n",
        "\n",
        "print(\"Taxa de acerto usando métrica de acurácia, usando o método de regressão logística, no dataset da Amazon: \", RL_acuracy_amazon )\n",
        "\n",
        "# Classification Report\n",
        "print(classification_report(data_aval_amazonY, RL_amazon_results, target_names=['Avaliações Positivas', 'Avaliações Negativas']))"
      ],
      "metadata": {
        "colab": {
          "base_uri": "https://localhost:8080/"
        },
        "id": "HrgRakgX6u38",
        "outputId": "3af0c127-a8f2-477c-ac49-99a3b0adfcfa"
      },
      "execution_count": null,
      "outputs": [
        {
          "output_type": "stream",
          "name": "stdout",
          "text": [
            "Taxa de acerto usando métrica de acurácia, usando o método de regressão logística, no dataset da Amazon:  0.8516666666666667\n",
            "                      precision    recall  f1-score   support\n",
            "\n",
            "Avaliações Positivas       0.86      0.87      0.86       657\n",
            "Avaliações Negativas       0.84      0.83      0.84       543\n",
            "\n",
            "            accuracy                           0.85      1200\n",
            "           macro avg       0.85      0.85      0.85      1200\n",
            "        weighted avg       0.85      0.85      0.85      1200\n",
            "\n"
          ]
        }
      ]
    },
    {
      "cell_type": "code",
      "source": [
        "print(\"Matriz de confusão do modelo para Amazon com Regressão Logística\")\n",
        "\n",
        "cm = confusion_matrix(data_aval_amazonY, RL_amazon_results)\n",
        "sns.heatmap(cm, annot=True, fmt='d', cmap='Purples')\n",
        "plt.xlabel('Labels preditadas')\n",
        "plt.ylabel('Labels Corretas')\n",
        "plt.title('Matriz de Confusão - TF-IDF')\n",
        "plt.show()"
      ],
      "metadata": {
        "colab": {
          "base_uri": "https://localhost:8080/",
          "height": 490
        },
        "id": "2Lp9-pZxUKaI",
        "outputId": "53871668-67ac-4f74-9653-a2c00f139898"
      },
      "execution_count": null,
      "outputs": [
        {
          "output_type": "stream",
          "name": "stdout",
          "text": [
            "Matriz de confusão do modelo para Amazon com Regressão Logística\n"
          ]
        },
        {
          "output_type": "display_data",
          "data": {
            "text/plain": [
              "<Figure size 640x480 with 2 Axes>"
            ],
            "image/png": "[encoded data removed]"
          },
          "metadata": {}
        }
      ]
    },
    {
      "cell_type": "markdown",
      "source": [
        "### Dataset Amazon com Gradient Tree Boosting"
      ],
      "metadata": {
        "id": "uZ6hKb14CIVn"
      }
    },
    {
      "cell_type": "code",
      "source": [
        "# Treinamento e Predição do modelo\n",
        "GTB_amazon = GradientBoostingClassifier(n_estimators=1000) # TF-IDF = 1000, CP=500\n",
        "GTB_amazon = GTB_amazon.fit(data_treino_amazonX, data_treino_amazonY)\n",
        "\n",
        "GTB_amazon_results = GTB_amazon.predict(data_aval_amazonX)\n",
        "\n",
        "# Medidas de Avalição\n",
        "\n",
        "# Acurácia\n",
        "GTB_acuracy_amazon = accuracy_score(data_aval_amazonY, GTB_amazon_results)\n",
        "\n",
        "print(\"Taxa de acerto usando métrica de acurácia, usando o método de Gradient Tree Boosting, no dataset da Amazon: \", GTB_acuracy_amazon )\n",
        "\n",
        "# Classification Report\n",
        "print(classification_report(data_aval_amazonY, GTB_amazon_results, target_names=['Avaliações Positivas', 'Avaliações Negativas']))"
      ],
      "metadata": {
        "colab": {
          "base_uri": "https://localhost:8080/"
        },
        "id": "YMY0lcOXCMGQ",
        "outputId": "c041484a-e1dd-46a6-a1ee-0f24992e286a"
      },
      "execution_count": null,
      "outputs": [
        {
          "output_type": "stream",
          "name": "stdout",
          "text": [
            "Taxa de acerto usando métrica de acurácia, usando o método de Gradient Tree Boosting, no dataset da Amazon:  0.83\n",
            "                      precision    recall  f1-score   support\n",
            "\n",
            "Avaliações Positivas       0.84      0.85      0.85       657\n",
            "Avaliações Negativas       0.82      0.80      0.81       543\n",
            "\n",
            "            accuracy                           0.83      1200\n",
            "           macro avg       0.83      0.83      0.83      1200\n",
            "        weighted avg       0.83      0.83      0.83      1200\n",
            "\n"
          ]
        }
      ]
    },
    {
      "cell_type": "code",
      "source": [
        "print(\"Matriz de confusão do modelo para Amazon com Gradient Tree Boosting \")\n",
        "\n",
        "cm = confusion_matrix(data_aval_amazonY, GTB_amazon_results)\n",
        "sns.heatmap(cm, annot=True, fmt='d', cmap='Purples')\n",
        "plt.xlabel('Labels preditadas')\n",
        "plt.ylabel('Labels Corretas')\n",
        "plt.title('Matriz de Confusão - TF-IDF')\n",
        "plt.show()"
      ],
      "metadata": {
        "colab": {
          "base_uri": "https://localhost:8080/",
          "height": 490
        },
        "id": "_5NvpwiACe2h",
        "outputId": "7c30d3a0-1c29-4f6e-ac28-f230e7cc6ac4"
      },
      "execution_count": null,
      "outputs": [
        {
          "output_type": "stream",
          "name": "stdout",
          "text": [
            "Matriz de confusão do modelo para Amazon com Gradient Tree Boosting \n"
          ]
        },
        {
          "output_type": "display_data",
          "data": {
            "text/plain": [
              "<Figure size 640x480 with 2 Axes>"
            ],
            "image/png": "[encoded data removed]"
          },
          "metadata": {}
        }
      ]
    },
    {
      "cell_type": "markdown",
      "source": [
        "## Testes com Tranfer Learning com o Count Vectorizer\n",
        "\n",
        "Anteriormente foi feito o treinamento e a classificação separadamente para cada dataset. Isso significa que é possível que os modelos que foram treinados com avaliações de filmes do IMDB podem ter um desempenho diferente na classificação de estabelecimentos comerciais do Yelp, por exemplo. Com o objetivo de tentar entender se o contexto nesse caso influencia nos resultados de predição do modelo, vamos aplicar Transfer Learning, ou seja, usar modelos treinados com um determinado contexto para classificar amostras de contextos diferentes. É interessante constatarmos o impacto dessa mudança e verificar como o modelo se comporta.\n",
        "\n",
        "Só foi possível realizar esse processo com a vetorização por meio de contagem de palavras porque ela permite que palavras que não pertencem ao dataset sejam vetorizadas com as mesmas palavras que ele, o que não acontece com o TF-IDF.\n"
      ],
      "metadata": {
        "id": "fcgwMmFDyd-c"
      }
    },
    {
      "cell_type": "markdown",
      "source": [
        "### Modelo do IMDB Classificando Dados do Yelp"
      ],
      "metadata": {
        "id": "wZFes1-U3Zl1"
      }
    },
    {
      "cell_type": "code",
      "source": [
        "# Regressão Linear\n",
        "\n",
        "# Transformando o data set do Yelp em uma vetorização aceita pelo modelo do IMDB\n",
        "TL_imdb_yelp = vect1.transform(data_yelp.Avaliation)\n",
        "val_result_RL = RL_imdb.predict(TL_imdb_yelp) # Fazendo a prediação\n",
        "\n",
        "# Medindo a acurácia\n",
        "acuracy_RL = accuracy_score(data_yelp.Sentiment, val_result_RL)\n",
        "\n",
        "# Gradiente Tree Bosting\n",
        "\n",
        "# Transformando o data set do Yelp em uma vetorização aceita pelo modelo do IMDB\n",
        "TL_imdb_yelp = vect1.transform(data_yelp.Avaliation)\n",
        "val_result_GTB = GTB_imdb.predict(TL_imdb_yelp) # Fazendo a prediação\n",
        "\n",
        "# Medindo a acurácia\n",
        "acuracy_GTB = accuracy_score(data_yelp.Sentiment, val_result_GTB)\n",
        "\n",
        "print(\"Acurácia para o modelo de Regressão Logística:\", acuracy_RL)\n",
        "print(\"Acurácia para o modelo de Gradient Tree Boosting:\", acuracy_GTB)"
      ],
      "metadata": {
        "colab": {
          "base_uri": "https://localhost:8080/"
        },
        "id": "UDRVGs0u4Idz",
        "outputId": "e5876626-ab49-4d43-877f-22c7991d657c"
      },
      "execution_count": null,
      "outputs": [
        {
          "output_type": "stream",
          "name": "stdout",
          "text": [
            "Acurácia para o modelo de Regressão Logística: 0.69\n",
            "Acurácia para o modelo de Gradient Tree Boosting: 0.632\n"
          ]
        }
      ]
    },
    {
      "cell_type": "markdown",
      "source": [
        "### Modelo do IMDB Classificando Dados da Amazon"
      ],
      "metadata": {
        "id": "s9KBpQScKs6f"
      }
    },
    {
      "cell_type": "code",
      "source": [
        "# Regressão Linear\n",
        "\n",
        "# Transformando o data set da Amazon em uma vetorização aceita pelo modelo do IMDB\n",
        "TL_imdb_amazon = vect1.transform(data_amazon.Avaliation)\n",
        "val_result_RL = RL_imdb.predict(TL_imdb_amazon) # Fazendo a prediação\n",
        "\n",
        "# Medindo a acurácia\n",
        "acuracy_RL = accuracy_score(data_amazon.Sentiment, val_result_RL)\n",
        "\n",
        "# Gradiente Tree Bosting\n",
        "\n",
        "# Transformando o data set da amazon em uma vetorização aceita pelo modelo do IMDB\n",
        "TL_imdb_amazon = vect1.transform(data_amazon.Avaliation)\n",
        "val_result_GTB = GTB_imdb.predict(TL_imdb_amazon) # Fazendo a prediação\n",
        "\n",
        "# Medindo a acurácia\n",
        "acuracy_GTB = accuracy_score(data_amazon.Sentiment, val_result_GTB)\n",
        "\n",
        "print(\"Acurácia para o modelo de Regressão Logística:\", acuracy_RL)\n",
        "print(\"Acurácia para o modelo de Gradient Tree Boosting:\", acuracy_GTB)"
      ],
      "metadata": {
        "colab": {
          "base_uri": "https://localhost:8080/"
        },
        "id": "JR4AIY8ILEvH",
        "outputId": "a7b07a37-5c2e-40a5-bbb5-cc9ac4f9c444"
      },
      "execution_count": null,
      "outputs": [
        {
          "output_type": "stream",
          "name": "stdout",
          "text": [
            "Acurácia para o modelo de Regressão Logística: 0.729\n",
            "Acurácia para o modelo de Gradient Tree Boosting: 0.602\n"
          ]
        }
      ]
    },
    {
      "cell_type": "markdown",
      "source": [
        "### Modelo do Yelp Classificando Dados da IMDB"
      ],
      "metadata": {
        "id": "5sSlsFGdLwnv"
      }
    },
    {
      "cell_type": "code",
      "source": [
        "# Regressão Linear\n",
        "\n",
        "# Transformando o data set IMDB em uma vetorização aceita pelo modelo Yelp\n",
        "TL_yelp_imdb = vect2.transform(data_imdb.Avaliation)\n",
        "val_result_RL = RL_yelp.predict(TL_yelp_imdb) # Fazendo a prediação\n",
        "\n",
        "# Medindo a acurácia\n",
        "acuracy_RL = accuracy_score(data_imdb.Sentiment, val_result_RL)\n",
        "\n",
        "# Gradiente Tree Bosting\n",
        "\n",
        "# Transformando o data set da IMDB em uma vetorização aceita pelo modelo do Yelp\n",
        "TL_yelp_imdb = vect2.transform(data_imdb.Avaliation)\n",
        "val_result_GTB = GTB_yelp.predict(TL_yelp_imdb) # Fazendo a prediação\n",
        "\n",
        "# Medindo a acurácia\n",
        "acuracy_GTB = accuracy_score(data_imdb.Sentiment, val_result_GTB)\n",
        "\n",
        "print(\"Acurácia para o modelo de Regressão Logística:\", acuracy_RL)\n",
        "print(\"Acurácia para o modelo de Gradient Tree Boosting:\", acuracy_GTB)"
      ],
      "metadata": {
        "colab": {
          "base_uri": "https://localhost:8080/"
        },
        "id": "HWaWEzEVL1tH",
        "outputId": "ac5806bc-d577-4bed-a657-e5129d909e18"
      },
      "execution_count": null,
      "outputs": [
        {
          "output_type": "stream",
          "name": "stdout",
          "text": [
            "Acurácia para o modelo de Regressão Logística: 0.6550802139037433\n",
            "Acurácia para o modelo de Gradient Tree Boosting: 0.6176470588235294\n"
          ]
        }
      ]
    },
    {
      "cell_type": "markdown",
      "source": [
        "### Modelo do Yelp Classificando Dados da Amazon"
      ],
      "metadata": {
        "id": "WObLxrsANDJ9"
      }
    },
    {
      "cell_type": "code",
      "source": [
        "# Regressão Linear\n",
        "\n",
        "# Transformando o data set Amazon em uma vetorização aceita pelo modelo Yelp\n",
        "TL_yelp_amazon = vect2.transform(data_amazon.Avaliation)\n",
        "val_result_RL = RL_yelp.predict(TL_yelp_amazon) # Fazendo a prediação\n",
        "\n",
        "# Medindo a acurácia\n",
        "acuracy_RL = accuracy_score(data_amazon.Sentiment, val_result_RL)\n",
        "\n",
        "# Gradiente Tree Bosting\n",
        "\n",
        "# Transformando o data set da Amazon em uma vetorização aceita pelo modelo do Yelp\n",
        "TL_yelp_amazon = vect2.transform(data_amazon.Avaliation)\n",
        "val_result_GTB = GTB_yelp.predict(TL_yelp_amazon) # Fazendo a prediação\n",
        "\n",
        "# Medindo a acurácia\n",
        "acuracy_GTB = accuracy_score(data_amazon.Sentiment, val_result_GTB)\n",
        "\n",
        "print(\"Acurácia para o modelo de Regressão Logística:\", acuracy_RL)\n",
        "print(\"Acurácia para o modelo de Gradient Tree Boosting:\", acuracy_GTB)"
      ],
      "metadata": {
        "colab": {
          "base_uri": "https://localhost:8080/"
        },
        "id": "BH0IzfunNCUl",
        "outputId": "3bde8bb3-ecbb-4b37-ff0d-12d1132f4c1b"
      },
      "execution_count": null,
      "outputs": [
        {
          "output_type": "stream",
          "name": "stdout",
          "text": [
            "Acurácia para o modelo de Regressão Logística: 0.716\n",
            "Acurácia para o modelo de Gradient Tree Boosting: 0.721\n"
          ]
        }
      ]
    },
    {
      "cell_type": "markdown",
      "source": [
        "### Modelo da Amazon Classificando Dados do IMDB"
      ],
      "metadata": {
        "id": "yieteWhRN79N"
      }
    },
    {
      "cell_type": "code",
      "source": [
        "# Regressão Linear\n",
        "\n",
        "# Transformando o data set IMDB em uma vetorização aceita pelo modelo Amazon\n",
        "TL_amazon_imdb = vect3.transform(data_imdb.Avaliation)\n",
        "val_result_RL = RL_amazon.predict(TL_amazon_imdb) # Fazendo a prediação\n",
        "\n",
        "# Medindo a acurácia\n",
        "acuracy_RL = accuracy_score(data_imdb.Sentiment, val_result_RL)\n",
        "\n",
        "# Gradiente Tree Bosting\n",
        "\n",
        "# Transformando o data set da IMDB em uma vetorização aceita pelo modelo Amazon\n",
        "TL_amazon_imdb = vect3.transform(data_imdb.Avaliation)\n",
        "val_result_GTB = GTB_amazon.predict(TL_amazon_imdb) # Fazendo a prediação\n",
        "\n",
        "# Medindo a acurácia\n",
        "acuracy_GTB = accuracy_score(data_imdb.Sentiment, val_result_GTB)\n",
        "\n",
        "print(\"Acurácia para o modelo de Regressão Logística:\", acuracy_RL)\n",
        "print(\"Acurácia para o modelo de Gradient Tree Boosting:\", acuracy_GTB)"
      ],
      "metadata": {
        "colab": {
          "base_uri": "https://localhost:8080/"
        },
        "id": "XDyAsFsmOEDy",
        "outputId": "11797187-bda9-4c0b-eae2-270742b6110f"
      },
      "execution_count": null,
      "outputs": [
        {
          "output_type": "stream",
          "name": "stdout",
          "text": [
            "Acurácia para o modelo de Regressão Logística: 0.6657754010695187\n",
            "Acurácia para o modelo de Gradient Tree Boosting: 0.6082887700534759\n"
          ]
        }
      ]
    },
    {
      "cell_type": "markdown",
      "source": [
        "### Modelo da Amazon Classificando Dados do Yelp"
      ],
      "metadata": {
        "id": "hH9vCaP6OpSB"
      }
    },
    {
      "cell_type": "code",
      "source": [
        "# Regressão Linear\n",
        "\n",
        "# Transformando o data set Yelp em uma vetorização aceita pelo modelo Amazon\n",
        "TL_amazon_yelp = vect3.transform(data_yelp.Avaliation)\n",
        "val_result_RL = RL_amazon.predict(TL_amazon_yelp) # Fazendo a prediação\n",
        "\n",
        "# Medindo a acurácia\n",
        "acuracy_RL = accuracy_score(data_yelp.Sentiment, val_result_RL)\n",
        "\n",
        "# Gradiente Tree Bosting\n",
        "\n",
        "# Transformando o data set da Yelp em uma vetorização aceita pelo modelo Amazon\n",
        "TL_amazon_yelp = vect3.transform(data_yelp.Avaliation)\n",
        "val_result_GTB = GTB_amazon.predict(TL_amazon_yelp) # Fazendo a prediação\n",
        "\n",
        "# Medindo a acurácia\n",
        "acuracy_GTB = accuracy_score(data_yelp.Sentiment, val_result_GTB)\n",
        "\n",
        "print(\"Acurácia para o modelo de Regressão Logística:\", acuracy_RL)\n",
        "print(\"Acurácia para o modelo de Gradient Tree Boosting:\", acuracy_GTB)"
      ],
      "metadata": {
        "colab": {
          "base_uri": "https://localhost:8080/"
        },
        "id": "V6KXQCVNOte8",
        "outputId": "a2bc5127-3bbd-4dfd-ca2f-038cb4255e2a"
      },
      "execution_count": null,
      "outputs": [
        {
          "output_type": "stream",
          "name": "stdout",
          "text": [
            "Acurácia para o modelo de Regressão Logística: 0.681\n",
            "Acurácia para o modelo de Gradient Tree Boosting: 0.674\n"
          ]
        }
      ]
    },
    {
      "cell_type": "markdown",
      "source": [
        "## Classificando Frases Individualmente\n",
        "\n",
        "Aqui, podemos classificar qualquer frase da língua inglesa utilizando qualquer um dos modelos treinados com os datasets e os classificadores diferentes"
      ],
      "metadata": {
        "id": "AMP37Pt7wM00"
      }
    },
    {
      "cell_type": "code",
      "source": [
        "# Exemplo de frases para uso\n",
        "exemplo1 = 'The case is terrible'\n",
        "exemplo2 = 'The room it is so good, very confortable amazing!'\n",
        "exemplo3 = \"I didn't hate\"\n",
        "exemplo4 = \"I expected more, thought it would be better\"\n",
        "\n",
        "# Para testar, basta inserir uma frase na célula\n",
        "while True:\n",
        "  message = input()\n",
        "  if(message==\"exit\"): break\n",
        "  res = RL_amazon.predict(vect3.transform([message]))\n",
        "  if(res[0]): print(\"Positive :)\")\n",
        "  elif(not res[0]): print(\"Negative :(\")\n",
        "\n",
        "\n"
      ],
      "metadata": {
        "id": "qqrVWx2twUl2"
      },
      "execution_count": null,
      "outputs": []
    },
    {
      "cell_type": "markdown",
      "source": [
        "##Links de Consulta e Referência"
      ],
      "metadata": {
        "id": "SrWZ86K-W2lX"
      }
    },
    {
      "cell_type": "markdown",
      "source": [
        "https://github.com/gabrielschade/IA/blob/master/ClassificacaoComentariosComNaiveBayes/sentiment.ipynb\n",
        "\n",
        "https://towardsdatascience.com/natural-language-processing-feature-engineering-using-tf-idf-e8b9d00e7e76\n",
        "\n",
        "https://gabrielschade.github.io/2018/04/16/machine-learning-classificador.html\n",
        "\n",
        "https://www.youtube.com/watch?v=zi16nl82AMA&ab_channel=sentdex\n",
        "\n",
        "https://www.lambda3.com.br/2019/04/inteligencia-artificial-como-fazer-analise-de-sentimentos-com-python-parte-1/\n",
        "\n",
        "https://dadosaocubo.com/nlp-com-scikit-learn/"
      ],
      "metadata": {
        "id": "5lCEuTTvN_qn"
      }
    }
  ]
}